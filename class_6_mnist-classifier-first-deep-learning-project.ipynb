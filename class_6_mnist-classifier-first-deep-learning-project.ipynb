{
 "cells": [
  {
   "cell_type": "markdown",
   "metadata": {
    "papermill": {
     "duration": 0.028319,
     "end_time": "2020-09-19T18:58:17.656729",
     "exception": false,
     "start_time": "2020-09-19T18:58:17.628410",
     "status": "completed"
    },
    "tags": []
   },
   "source": [
    "## Handwritten Digit Classifier using a Simple Neural Network with 99.4% accuracy\n",
    "\n",
    "### MNIST Dataset\n",
    "The MNIST database (Modified National Institute of Standards and Technology database) is a large database of handwritten digits that is commonly used for training various image processing systems. This dataset is considered to be the \"hello world\" dataset for Computer Vision.\n",
    "\n",
    "I have written a blog to give a better explanation of the approach I have used, here is the link - https://medium.com/analytics-vidhya/get-started-with-your-first-deep-learning-project-7d989cb13ae5\n",
    "\n",
    "It has a training set of 60,000 examples and a test set of 10,000 examples for handwritten digits with a fixed dimension of 28X28 pixels. The goal is to correctly identify digits and find ways to improve the performance of the model. So let's dive into it -"
   ]
  },
  {
   "cell_type": "markdown",
   "metadata": {
    "papermill": {
     "duration": 0.029735,
     "end_time": "2020-09-19T18:58:17.713586",
     "exception": false,
     "start_time": "2020-09-19T18:58:17.683851",
     "status": "completed"
    },
    "tags": []
   },
   "source": [
    "## Import the required libraries"
   ]
  },
  {
   "cell_type": "code",
   "execution_count": null,
   "metadata": {
    "_cell_guid": "b1076dfc-b9ad-4769-8c92-a6c4dae69d19",
    "_uuid": "8f2839f25d086af736a60e9eeb907d3b93b6e0e5",
    "execution": {
     "iopub.execute_input": "2020-09-19T18:58:17.776043Z",
     "iopub.status.busy": "2020-09-19T18:58:17.774989Z",
     "iopub.status.idle": "2020-09-19T18:58:25.226722Z",
     "shell.execute_reply": "2020-09-19T18:58:25.225938Z"
    },
    "papermill": {
     "duration": 7.485496,
     "end_time": "2020-09-19T18:58:25.226882",
     "exception": false,
     "start_time": "2020-09-19T18:58:17.741386",
     "status": "completed"
    },
    "tags": []
   },
   "outputs": [],
   "source": [
    "import numpy as np         \n",
    "import pandas as pd\n",
    "import matplotlib.pyplot as plt      \n",
    "import random                        \n",
    "\n",
    "from keras.datasets import mnist     \n",
    "from keras.models import Sequential  \n",
    "\n",
    "from tensorflow.keras.layers import Dense, Dropout, Activation\n",
    "# from keras.utils import np_utils   \n",
    "from tensorflow.keras.utils import to_categorical\n",
    "                      "
   ]
  },
  {
   "cell_type": "markdown",
   "metadata": {},
   "source": [
    "### ERROR  --> double click to show error\n",
    "\n",
    "<!-- The error:\n",
    "\n",
    "```\n",
    "ModuleNotFoundError: No module named 'keras.layers.core'\n",
    "```\n",
    "\n",
    "means you're trying to import from a module path (`keras.layers.core`) that no longer exists in recent versions of **Keras**.\n",
    "\n",
    "---\n",
    "\n",
    "### ✅ **Fix**\n",
    "\n",
    "In modern versions of Keras (especially with TensorFlow 2.x), you should import layers like this:\n",
    "\n",
    "```python\n",
    "from keras.layers import Dense, Dropout, Activation\n",
    "```\n",
    "\n",
    "or if you are using **TensorFlow’s built-in Keras** (which is most common now):\n",
    "\n",
    "```python\n",
    "from tensorflow.keras.layers import Dense, Dropout, Activation\n",
    "```\n",
    "\n",
    "---\n",
    "\n",
    "### ✅ Recommended Full Import Structure (TensorFlow 2.x)\n",
    "\n",
    "```python\n",
    "import numpy as np\n",
    "from tensorflow.keras.datasets import mnist\n",
    "from tensorflow.keras.models import Sequential\n",
    "from tensorflow.keras.layers import Dense, Dropout, Activation\n",
    "from tensorflow.keras.utils import to_categorical\n",
    "```\n",
    "\n",
    "---\n",
    "\n",
    "### 🔁 Replace `np_utils`\n",
    "\n",
    "If you're getting errors with this line:\n",
    "\n",
    "```python\n",
    "from keras.utils import np_utils\n",
    "```\n",
    "\n",
    "Use this instead:\n",
    "\n",
    "```python\n",
    "from tensorflow.keras.utils import to_categorical\n",
    "```\n",
    "\n",
    "And update your label preprocessing like:\n",
    "\n",
    "```python\n",
    "y_train = to_categorical(y_train, 10)\n",
    "y_test = to_categorical(y_test, 10)\n",
    "```\n",
    "\n",
    "---\n",
    "\n",
    "Let me know if you'd like a complete working MNIST example using modern Keras/TensorFlow! -->"
   ]
  },
  {
   "cell_type": "markdown",
   "metadata": {
    "papermill": {
     "duration": 0.027353,
     "end_time": "2020-09-19T18:58:25.281864",
     "exception": false,
     "start_time": "2020-09-19T18:58:25.254511",
     "status": "completed"
    },
    "tags": []
   },
   "source": [
    "NumPy is an advanced Math Library in Python. Matplotlib will be used to plot graphs and for data visualization. We will import the MNIST dataset which is pre-loaded in Keras. We will use the Sequential Model and import the basic layers and util tools."
   ]
  },
  {
   "cell_type": "markdown",
   "metadata": {
    "papermill": {
     "duration": 0.027256,
     "end_time": "2020-09-19T18:58:25.336333",
     "exception": false,
     "start_time": "2020-09-19T18:58:25.309077",
     "status": "completed"
    },
    "tags": []
   },
   "source": [
    "## Load the Dataset"
   ]
  },
  {
   "cell_type": "markdown",
   "metadata": {},
   "source": [
    "# https://keras.io/api/datasets/ \n",
    "\n",
    "https://machinelearningmastery.com/how-to-develop-a-convolutional-neural-network-from-scratch-for-mnist-handwritten-digit-classification/\n"
   ]
  },
  {
   "cell_type": "code",
   "execution_count": 48,
   "metadata": {},
   "outputs": [],
   "source": [
    "(X_train, y_train), (X_test, y_test) = mnist.load_data()"
   ]
  },
  {
   "cell_type": "code",
   "execution_count": null,
   "metadata": {
    "_cell_guid": "79c7e3d0-c299-4dcb-8224-4455121ee9b0",
    "_uuid": "d629ff2d2480ee46fbb7e2d37f6b5fab8052498a",
    "execution": {
     "iopub.execute_input": "2020-09-19T18:58:25.398258Z",
     "iopub.status.busy": "2020-09-19T18:58:25.397129Z",
     "iopub.status.idle": "2020-09-19T18:58:26.264344Z",
     "shell.execute_reply": "2020-09-19T18:58:26.263508Z"
    },
    "papermill": {
     "duration": 0.901337,
     "end_time": "2020-09-19T18:58:26.264481",
     "exception": false,
     "start_time": "2020-09-19T18:58:25.363144",
     "status": "completed"
    },
    "tags": []
   },
   "outputs": [
    {
     "name": "stdout",
     "output_type": "stream",
     "text": [
      "X_train shape (60000, 28, 28)\n",
      "y_train shape (60000,)\n",
      "X_test shape (10000, 28, 28)\n",
      "y_test shape (10000,)\n"
     ]
    }
   ],
   "source": [
    "print(\"X_train shape\", X_train.shape)\n",
    "print(\"y_train shape\", y_train.shape)\n",
    "print(\"X_test shape\", X_test.shape)\n",
    "print(\"y_test shape\", y_test.shape)"
   ]
  },
  {
   "cell_type": "code",
   "execution_count": 50,
   "metadata": {},
   "outputs": [
    {
     "data": {
      "text/plain": [
       "array([[  0,   0,   0,   0,   0,   0,   0,   0,   0,   0,   0,   0,   0,\n",
       "          0,   0,   0,   0,   0,   0,   0,   0,   0,   0,   0,   0,   0,\n",
       "          0,   0],\n",
       "       [  0,   0,   0,   0,   0,   0,   0,   0,   0,   0,   0,   0,   0,\n",
       "          0,   0,   0,   0,   0,   0,   0,   0,   0,   0,   0,   0,   0,\n",
       "          0,   0],\n",
       "       [  0,   0,   0,   0,   0,   0,   0,   0,   0,   0,   0,   0,   0,\n",
       "          0,   0,   0,   0,   0,   0,   0,   0,   0,   0,   0,   0,   0,\n",
       "          0,   0],\n",
       "       [  0,   0,   0,   0,   0,   0,   0,   0,   0,   0,   0,   0,   0,\n",
       "          0,   0,   0,   0,   0,   0,   0,   0,   0,   0,   0,   0,   0,\n",
       "          0,   0],\n",
       "       [  0,   0,   0,   0,   0,   0,   0,   0,   0,   0,   0,   0,   0,\n",
       "          0,   0,   0,   0,   0,   0,   0,   0,   0,   0,   0,   0,   0,\n",
       "          0,   0],\n",
       "       [  0,   0,   0,   0,   0,   0,   0,   0,   0,   0,   0,   0,   3,\n",
       "         18,  18,  18, 126, 136, 175,  26, 166, 255, 247, 127,   0,   0,\n",
       "          0,   0],\n",
       "       [  0,   0,   0,   0,   0,   0,   0,   0,  30,  36,  94, 154, 170,\n",
       "        253, 253, 253, 253, 253, 225, 172, 253, 242, 195,  64,   0,   0,\n",
       "          0,   0],\n",
       "       [  0,   0,   0,   0,   0,   0,   0,  49, 238, 253, 253, 253, 253,\n",
       "        253, 253, 253, 253, 251,  93,  82,  82,  56,  39,   0,   0,   0,\n",
       "          0,   0],\n",
       "       [  0,   0,   0,   0,   0,   0,   0,  18, 219, 253, 253, 253, 253,\n",
       "        253, 198, 182, 247, 241,   0,   0,   0,   0,   0,   0,   0,   0,\n",
       "          0,   0],\n",
       "       [  0,   0,   0,   0,   0,   0,   0,   0,  80, 156, 107, 253, 253,\n",
       "        205,  11,   0,  43, 154,   0,   0,   0,   0,   0,   0,   0,   0,\n",
       "          0,   0],\n",
       "       [  0,   0,   0,   0,   0,   0,   0,   0,   0,  14,   1, 154, 253,\n",
       "         90,   0,   0,   0,   0,   0,   0,   0,   0,   0,   0,   0,   0,\n",
       "          0,   0],\n",
       "       [  0,   0,   0,   0,   0,   0,   0,   0,   0,   0,   0, 139, 253,\n",
       "        190,   2,   0,   0,   0,   0,   0,   0,   0,   0,   0,   0,   0,\n",
       "          0,   0],\n",
       "       [  0,   0,   0,   0,   0,   0,   0,   0,   0,   0,   0,  11, 190,\n",
       "        253,  70,   0,   0,   0,   0,   0,   0,   0,   0,   0,   0,   0,\n",
       "          0,   0],\n",
       "       [  0,   0,   0,   0,   0,   0,   0,   0,   0,   0,   0,   0,  35,\n",
       "        241, 225, 160, 108,   1,   0,   0,   0,   0,   0,   0,   0,   0,\n",
       "          0,   0],\n",
       "       [  0,   0,   0,   0,   0,   0,   0,   0,   0,   0,   0,   0,   0,\n",
       "         81, 240, 253, 253, 119,  25,   0,   0,   0,   0,   0,   0,   0,\n",
       "          0,   0],\n",
       "       [  0,   0,   0,   0,   0,   0,   0,   0,   0,   0,   0,   0,   0,\n",
       "          0,  45, 186, 253, 253, 150,  27,   0,   0,   0,   0,   0,   0,\n",
       "          0,   0],\n",
       "       [  0,   0,   0,   0,   0,   0,   0,   0,   0,   0,   0,   0,   0,\n",
       "          0,   0,  16,  93, 252, 253, 187,   0,   0,   0,   0,   0,   0,\n",
       "          0,   0],\n",
       "       [  0,   0,   0,   0,   0,   0,   0,   0,   0,   0,   0,   0,   0,\n",
       "          0,   0,   0,   0, 249, 253, 249,  64,   0,   0,   0,   0,   0,\n",
       "          0,   0],\n",
       "       [  0,   0,   0,   0,   0,   0,   0,   0,   0,   0,   0,   0,   0,\n",
       "          0,  46, 130, 183, 253, 253, 207,   2,   0,   0,   0,   0,   0,\n",
       "          0,   0],\n",
       "       [  0,   0,   0,   0,   0,   0,   0,   0,   0,   0,   0,   0,  39,\n",
       "        148, 229, 253, 253, 253, 250, 182,   0,   0,   0,   0,   0,   0,\n",
       "          0,   0],\n",
       "       [  0,   0,   0,   0,   0,   0,   0,   0,   0,   0,  24, 114, 221,\n",
       "        253, 253, 253, 253, 201,  78,   0,   0,   0,   0,   0,   0,   0,\n",
       "          0,   0],\n",
       "       [  0,   0,   0,   0,   0,   0,   0,   0,  23,  66, 213, 253, 253,\n",
       "        253, 253, 198,  81,   2,   0,   0,   0,   0,   0,   0,   0,   0,\n",
       "          0,   0],\n",
       "       [  0,   0,   0,   0,   0,   0,  18, 171, 219, 253, 253, 253, 253,\n",
       "        195,  80,   9,   0,   0,   0,   0,   0,   0,   0,   0,   0,   0,\n",
       "          0,   0],\n",
       "       [  0,   0,   0,   0,  55, 172, 226, 253, 253, 253, 253, 244, 133,\n",
       "         11,   0,   0,   0,   0,   0,   0,   0,   0,   0,   0,   0,   0,\n",
       "          0,   0],\n",
       "       [  0,   0,   0,   0, 136, 253, 253, 253, 212, 135, 132,  16,   0,\n",
       "          0,   0,   0,   0,   0,   0,   0,   0,   0,   0,   0,   0,   0,\n",
       "          0,   0],\n",
       "       [  0,   0,   0,   0,   0,   0,   0,   0,   0,   0,   0,   0,   0,\n",
       "          0,   0,   0,   0,   0,   0,   0,   0,   0,   0,   0,   0,   0,\n",
       "          0,   0],\n",
       "       [  0,   0,   0,   0,   0,   0,   0,   0,   0,   0,   0,   0,   0,\n",
       "          0,   0,   0,   0,   0,   0,   0,   0,   0,   0,   0,   0,   0,\n",
       "          0,   0],\n",
       "       [  0,   0,   0,   0,   0,   0,   0,   0,   0,   0,   0,   0,   0,\n",
       "          0,   0,   0,   0,   0,   0,   0,   0,   0,   0,   0,   0,   0,\n",
       "          0,   0]], dtype=uint8)"
      ]
     },
     "execution_count": 50,
     "metadata": {},
     "output_type": "execute_result"
    }
   ],
   "source": [
    "X_train[0]"
   ]
  },
  {
   "cell_type": "code",
   "execution_count": 51,
   "metadata": {},
   "outputs": [
    {
     "name": "stdout",
     "output_type": "stream",
     "text": [
      "0\n"
     ]
    },
    {
     "data": {
      "image/png": "[encoded data removed]",
      "text/plain": [
       "<Figure size 640x480 with 1 Axes>"
      ]
     },
     "metadata": {},
     "output_type": "display_data"
    }
   ],
   "source": [
    "i = 234\n",
    "plt.imshow(X_train[i], cmap='gray', interpolation='none')\n",
    "print(y_train[i])"
   ]
  },
  {
   "cell_type": "code",
   "execution_count": 52,
   "metadata": {
    "execution": {
     "iopub.execute_input": "2020-09-19T18:58:26.336941Z",
     "iopub.status.busy": "2020-09-19T18:58:26.336170Z",
     "iopub.status.idle": "2020-09-19T18:58:28.470348Z",
     "shell.execute_reply": "2020-09-19T18:58:28.468880Z"
    },
    "papermill": {
     "duration": 2.176261,
     "end_time": "2020-09-19T18:58:28.470496",
     "exception": false,
     "start_time": "2020-09-19T18:58:26.294235",
     "status": "completed"
    },
    "tags": []
   },
   "outputs": [],
   "source": [
    "# test_data = pd.read_csv('https://www.kaggle.com/code/heeraldedhia/mnist-classifier-first-deep-learning-project/input?select=test.csv', delimiter = ',', header = 0, usecols = [x for x in range(0, 784)])"
   ]
  },
  {
   "cell_type": "markdown",
   "metadata": {
    "papermill": {
     "duration": 0.028829,
     "end_time": "2020-09-19T18:58:28.529431",
     "exception": false,
     "start_time": "2020-09-19T18:58:28.500602",
     "status": "completed"
    },
    "tags": []
   },
   "source": [
    "We load the dataset and verify the dimensions of the training and testing sets."
   ]
  },
  {
   "cell_type": "code",
   "execution_count": 53,
   "metadata": {
    "execution": {
     "iopub.execute_input": "2020-09-19T18:58:28.597424Z",
     "iopub.status.busy": "2020-09-19T18:58:28.596629Z",
     "iopub.status.idle": "2020-09-19T18:58:29.916351Z",
     "shell.execute_reply": "2020-09-19T18:58:29.916914Z"
    },
    "papermill": {
     "duration": 1.358457,
     "end_time": "2020-09-19T18:58:29.917086",
     "exception": false,
     "start_time": "2020-09-19T18:58:28.558629",
     "status": "completed"
    },
    "tags": []
   },
   "outputs": [
    {
     "data": {
      "image/png": "[encoded data removed]",
      "text/plain": [
       "<Figure size 640x480 with 9 Axes>"
      ]
     },
     "metadata": {},
     "output_type": "display_data"
    }
   ],
   "source": [
    "for i in range(9):\n",
    "    plt.subplot(3,3,i+1)\n",
    "    num = random.randint(0, len(X_train))\n",
    "    plt.imshow(X_train[num], cmap='gray', interpolation='none')\n",
    "    plt.title(\"Class {}\".format(y_train[num]))\n",
    "    \n",
    "plt.tight_layout()"
   ]
  },
  {
   "cell_type": "markdown",
   "metadata": {
    "papermill": {
     "duration": 0.029553,
     "end_time": "2020-09-19T18:58:29.977291",
     "exception": false,
     "start_time": "2020-09-19T18:58:29.947738",
     "status": "completed"
    },
    "tags": []
   },
   "source": [
    "Here we are randomly selecting 9 images from the dataset and plotting them to get an idea of the handwritten digits and their respective classes."
   ]
  },
  {
   "cell_type": "markdown",
   "metadata": {
    "papermill": {
     "duration": 0.031047,
     "end_time": "2020-09-19T18:58:30.038616",
     "exception": false,
     "start_time": "2020-09-19T18:58:30.007569",
     "status": "completed"
    },
    "tags": []
   },
   "source": [
    "## Data Preprocessing\n",
    "\n",
    "Instead of a 28 x 28 matrix, we build our network to accept a 784-length vector. Pixel values range from 0 to 255 where 0 is black and 255 is pure white. We will normalize these values by dividing them by 255 so that we get the output pixel values between [0,1] in the same magnitude.\n",
    "\n",
    "Note that we are working with grayscale images of dimension 28 x 28 pixels. If we have color images, we have 3 channels for RGB, i.e. 28 x 28 x 3, each with pixel value in the range 0 to 255."
   ]
  },
  {
   "cell_type": "code",
   "execution_count": 54,
   "metadata": {},
   "outputs": [
    {
     "data": {
      "text/plain": [
       "(60000, 28, 28)"
      ]
     },
     "execution_count": 54,
     "metadata": {},
     "output_type": "execute_result"
    }
   ],
   "source": [
    "X_train.shape"
   ]
  },
  {
   "cell_type": "code",
   "execution_count": 55,
   "metadata": {
    "execution": {
     "iopub.execute_input": "2020-09-19T18:58:30.107067Z",
     "iopub.status.busy": "2020-09-19T18:58:30.106052Z",
     "iopub.status.idle": "2020-09-19T18:58:30.214899Z",
     "shell.execute_reply": "2020-09-19T18:58:30.215468Z"
    },
    "papermill": {
     "duration": 0.144123,
     "end_time": "2020-09-19T18:58:30.215631",
     "exception": false,
     "start_time": "2020-09-19T18:58:30.071508",
     "status": "completed"
    },
    "tags": []
   },
   "outputs": [
    {
     "name": "stdout",
     "output_type": "stream",
     "text": [
      "Training matrix shape (60000, 784)\n",
      "Testing matrix shape (10000, 784)\n"
     ]
    }
   ],
   "source": [
    "X_train = X_train.reshape(60000, 784) \n",
    "X_test = X_test.reshape(10000, 784)   \n",
    "\n",
    "X_train = X_train.astype('float32')   \n",
    "X_test = X_test.astype('float32')\n",
    "\n",
    "X_train /= 255                        \n",
    "X_test /= 255\n",
    "\n",
    "print(\"Training matrix shape\", X_train.shape)\n",
    "print(\"Testing matrix shape\", X_test.shape)"
   ]
  },
  {
   "cell_type": "code",
   "execution_count": 56,
   "metadata": {
    "execution": {
     "iopub.execute_input": "2020-09-19T18:58:30.294004Z",
     "iopub.status.busy": "2020-09-19T18:58:30.292946Z",
     "iopub.status.idle": "2020-09-19T18:58:30.297778Z",
     "shell.execute_reply": "2020-09-19T18:58:30.297240Z"
    },
    "papermill": {
     "duration": 0.051595,
     "end_time": "2020-09-19T18:58:30.297914",
     "exception": false,
     "start_time": "2020-09-19T18:58:30.246319",
     "status": "completed"
    },
    "tags": []
   },
   "outputs": [],
   "source": [
    "no_classes = 10\n",
    "\n",
    "Y_train = to_categorical(y_train, no_classes)\n",
    "Y_test = to_categorical(y_test, no_classes)"
   ]
  },
  {
   "cell_type": "code",
   "execution_count": 57,
   "metadata": {},
   "outputs": [
    {
     "data": {
      "text/plain": [
       "np.uint8(5)"
      ]
     },
     "execution_count": 57,
     "metadata": {},
     "output_type": "execute_result"
    }
   ],
   "source": [
    "y_train[0]"
   ]
  },
  {
   "cell_type": "code",
   "execution_count": 58,
   "metadata": {},
   "outputs": [
    {
     "data": {
      "text/plain": [
       "array([0., 0., 0., 0., 0., 1., 0., 0., 0., 0.])"
      ]
     },
     "execution_count": 58,
     "metadata": {},
     "output_type": "execute_result"
    }
   ],
   "source": [
    "Y_train[0]"
   ]
  },
  {
   "cell_type": "markdown",
   "metadata": {
    "papermill": {
     "duration": 0.032693,
     "end_time": "2020-09-19T18:58:30.373373",
     "exception": false,
     "start_time": "2020-09-19T18:58:30.340680",
     "status": "completed"
    },
    "tags": []
   },
   "source": [
    "Since the output will be classified as one of the 10 classes we use one-hot encoding technique to form the output (Y variable). Read more about one-hot encoding here - https://machinelearningmastery.com/why-one-hot-encode-data-in-machine-learning/\n",
    "\n"
   ]
  },
  {
   "cell_type": "markdown",
   "metadata": {
    "papermill": {
     "duration": 0.032373,
     "end_time": "2020-09-19T18:58:30.438596",
     "exception": false,
     "start_time": "2020-09-19T18:58:30.406223",
     "status": "completed"
    },
    "tags": []
   },
   "source": [
    "## Building a 3-layer Neural Network\n",
    "\n",
    "![alt text](https://chsasank.github.io/assets/images/crash_course/mnist_net.png)\n"
   ]
  },
  {
   "cell_type": "code",
   "execution_count": 59,
   "metadata": {
    "execution": {
     "iopub.execute_input": "2020-09-19T18:58:30.517943Z",
     "iopub.status.busy": "2020-09-19T18:58:30.517197Z",
     "iopub.status.idle": "2020-09-19T18:58:30.605426Z",
     "shell.execute_reply": "2020-09-19T18:58:30.606377Z"
    },
    "papermill": {
     "duration": 0.132161,
     "end_time": "2020-09-19T18:58:30.606576",
     "exception": false,
     "start_time": "2020-09-19T18:58:30.474415",
     "status": "completed"
    },
    "tags": []
   },
   "outputs": [],
   "source": [
    "model = Sequential()"
   ]
  },
  {
   "cell_type": "markdown",
   "metadata": {
    "papermill": {
     "duration": 0.032665,
     "end_time": "2020-09-19T18:58:30.671047",
     "exception": false,
     "start_time": "2020-09-19T18:58:30.638382",
     "status": "completed"
    },
    "tags": []
   },
   "source": [
    "The sequential API allows you to create models layer-by-layer."
   ]
  },
  {
   "cell_type": "markdown",
   "metadata": {
    "papermill": {
     "duration": 0.032249,
     "end_time": "2020-09-19T18:58:30.736191",
     "exception": false,
     "start_time": "2020-09-19T18:58:30.703942",
     "status": "completed"
    },
    "tags": []
   },
   "source": [
    "## First Hidden Layer"
   ]
  },
  {
   "cell_type": "code",
   "execution_count": 60,
   "metadata": {
    "execution": {
     "iopub.execute_input": "2020-09-19T18:58:30.812622Z",
     "iopub.status.busy": "2020-09-19T18:58:30.811825Z",
     "iopub.status.idle": "2020-09-19T18:58:30.870697Z",
     "shell.execute_reply": "2020-09-19T18:58:30.869896Z"
    },
    "papermill": {
     "duration": 0.100563,
     "end_time": "2020-09-19T18:58:30.870823",
     "exception": false,
     "start_time": "2020-09-19T18:58:30.770260",
     "status": "completed"
    },
    "tags": []
   },
   "outputs": [
    {
     "name": "stderr",
     "output_type": "stream",
     "text": [
      "c:\\Users\\hp\\.conda\\envs\\aienv\\Lib\\site-packages\\keras\\src\\layers\\core\\dense.py:87: UserWarning: Do not pass an `input_shape`/`input_dim` argument to a layer. When using Sequential models, prefer using an `Input(shape)` object as the first layer in the model instead.\n",
      "  super().__init__(activity_regularizer=activity_regularizer, **kwargs)\n"
     ]
    }
   ],
   "source": [
    "model.add(Dense(512, input_shape=(784,))) "
   ]
  },
  {
   "cell_type": "markdown",
   "metadata": {
    "papermill": {
     "duration": 0.032799,
     "end_time": "2020-09-19T18:58:30.936249",
     "exception": false,
     "start_time": "2020-09-19T18:58:30.903450",
     "status": "completed"
    },
    "tags": []
   },
   "source": [
    "The first hidden layer has 512 nodes (neurons) whose input is a vector of size 784. Each node will receive an element from each input vector and apply some weight and bias to it."
   ]
  },
  {
   "cell_type": "code",
   "execution_count": 61,
   "metadata": {
    "execution": {
     "iopub.execute_input": "2020-09-19T18:58:31.013893Z",
     "iopub.status.busy": "2020-09-19T18:58:31.013039Z",
     "iopub.status.idle": "2020-09-19T18:58:31.018082Z",
     "shell.execute_reply": "2020-09-19T18:58:31.016889Z"
    },
    "papermill": {
     "duration": 0.045822,
     "end_time": "2020-09-19T18:58:31.018464",
     "exception": false,
     "start_time": "2020-09-19T18:58:30.972642",
     "status": "completed"
    },
    "tags": []
   },
   "outputs": [],
   "source": [
    "model.add(Activation('relu'))"
   ]
  },
  {
   "cell_type": "markdown",
   "metadata": {
    "papermill": {
     "duration": 0.035414,
     "end_time": "2020-09-19T18:58:31.091571",
     "exception": false,
     "start_time": "2020-09-19T18:58:31.056157",
     "status": "completed"
    },
    "tags": []
   },
   "source": [
    "In artificial neural networks, the activation function of a node defines the output of that node given an input or set of inputs. ReLU stands for rectified linear unit, and is a type of activation function. $$ ReLU: f(x) = max (0,x)$$"
   ]
  },
  {
   "cell_type": "code",
   "execution_count": 62,
   "metadata": {
    "execution": {
     "iopub.execute_input": "2020-09-19T18:58:31.171609Z",
     "iopub.status.busy": "2020-09-19T18:58:31.170799Z",
     "iopub.status.idle": "2020-09-19T18:58:31.212772Z",
     "shell.execute_reply": "2020-09-19T18:58:31.210880Z"
    },
    "papermill": {
     "duration": 0.085279,
     "end_time": "2020-09-19T18:58:31.213030",
     "exception": false,
     "start_time": "2020-09-19T18:58:31.127751",
     "status": "completed"
    },
    "tags": []
   },
   "outputs": [],
   "source": [
    "model.add(Dropout(0.2))"
   ]
  },
  {
   "cell_type": "markdown",
   "metadata": {
    "papermill": {
     "duration": 0.032658,
     "end_time": "2020-09-19T18:58:31.279503",
     "exception": false,
     "start_time": "2020-09-19T18:58:31.246845",
     "status": "completed"
    },
    "tags": []
   },
   "source": [
    "Dropout randomly selects a few nodes and nullifies their output (deactivates the node). This helps in ensuring that the model is not overfitted to the training dataset."
   ]
  },
  {
   "cell_type": "markdown",
   "metadata": {
    "papermill": {
     "duration": 0.031048,
     "end_time": "2020-09-19T18:58:31.343549",
     "exception": false,
     "start_time": "2020-09-19T18:58:31.312501",
     "status": "completed"
    },
    "tags": []
   },
   "source": [
    "## Second Hidden Layer"
   ]
  },
  {
   "cell_type": "code",
   "execution_count": 63,
   "metadata": {
    "execution": {
     "iopub.execute_input": "2020-09-19T18:58:31.416145Z",
     "iopub.status.busy": "2020-09-19T18:58:31.414969Z",
     "iopub.status.idle": "2020-09-19T18:58:31.439982Z",
     "shell.execute_reply": "2020-09-19T18:58:31.439186Z"
    },
    "papermill": {
     "duration": 0.065016,
     "end_time": "2020-09-19T18:58:31.440107",
     "exception": false,
     "start_time": "2020-09-19T18:58:31.375091",
     "status": "completed"
    },
    "tags": []
   },
   "outputs": [],
   "source": [
    "model.add(Dense(512))\n",
    "model.add(Activation('relu'))\n",
    "model.add(Dropout(0.2))"
   ]
  },
  {
   "cell_type": "markdown",
   "metadata": {
    "papermill": {
     "duration": 0.031277,
     "end_time": "2020-09-19T18:58:31.505129",
     "exception": false,
     "start_time": "2020-09-19T18:58:31.473852",
     "status": "completed"
    },
    "tags": []
   },
   "source": [
    "The second hidden layer also has 512 nodes and it takes input from the 512 nodes in the previous layer and gives its output to the next subsequent layer."
   ]
  },
  {
   "cell_type": "markdown",
   "metadata": {
    "papermill": {
     "duration": 0.032887,
     "end_time": "2020-09-19T18:58:31.569886",
     "exception": false,
     "start_time": "2020-09-19T18:58:31.536999",
     "status": "completed"
    },
    "tags": []
   },
   "source": [
    "## Final Output Layer"
   ]
  },
  {
   "cell_type": "markdown",
   "metadata": {
    "papermill": {
     "duration": 0.03132,
     "end_time": "2020-09-19T18:58:31.634653",
     "exception": false,
     "start_time": "2020-09-19T18:58:31.603333",
     "status": "completed"
    },
    "tags": []
   },
   "source": [
    "The final layer of 10 neurons in fully-connected to the previous 512-node layer.\n",
    "The final layer should be equal to the number of desired output classes."
   ]
  },
  {
   "cell_type": "code",
   "execution_count": 64,
   "metadata": {
    "execution": {
     "iopub.execute_input": "2020-09-19T18:58:31.710039Z",
     "iopub.status.busy": "2020-09-19T18:58:31.709062Z",
     "iopub.status.idle": "2020-09-19T18:58:31.724981Z",
     "shell.execute_reply": "2020-09-19T18:58:31.724222Z"
    },
    "papermill": {
     "duration": 0.057861,
     "end_time": "2020-09-19T18:58:31.725103",
     "exception": false,
     "start_time": "2020-09-19T18:58:31.667242",
     "status": "completed"
    },
    "tags": []
   },
   "outputs": [],
   "source": [
    "model.add(Dense(10))\n",
    "model.add(Activation('softmax'))"
   ]
  },
  {
   "cell_type": "markdown",
   "metadata": {
    "papermill": {
     "duration": 0.032635,
     "end_time": "2020-09-19T18:58:31.789462",
     "exception": false,
     "start_time": "2020-09-19T18:58:31.756827",
     "status": "completed"
    },
    "tags": []
   },
   "source": [
    "The Softmax Activation represents a probability distribution over n different possible outcomes. Its values are all non-negative and sum to 1. For example, if the final output is: [0, 0.94, 0, 0, 0, 0, 0, 0.06, 0, 0] then it is most probable that the image is that of the digit 1"
   ]
  },
  {
   "cell_type": "code",
   "execution_count": 65,
   "metadata": {},
   "outputs": [],
   "source": [
    "# OR \n",
    "# # model is a 3-layer MLP with ReLU and dropout after each layer\n",
    "# model = Sequential()\n",
    "# model.add(Dense(hidden_units, input_dim=input_size))\n",
    "# model.add(Activation('relu'))\n",
    "# model.add(Dropout(dropout))\n",
    "# model.add(Dense(hidden_units))\n",
    "# model.add(Activation('relu'))\n",
    "# model.add(Dropout(dropout))\n",
    "# model.add(Dense(num_labels))\n",
    "# model.add(Activation('softmax'))"
   ]
  },
  {
   "cell_type": "code",
   "execution_count": 66,
   "metadata": {
    "execution": {
     "iopub.execute_input": "2020-09-19T18:58:31.864583Z",
     "iopub.status.busy": "2020-09-19T18:58:31.863485Z",
     "iopub.status.idle": "2020-09-19T18:58:31.871598Z",
     "shell.execute_reply": "2020-09-19T18:58:31.870560Z"
    },
    "papermill": {
     "duration": 0.050023,
     "end_time": "2020-09-19T18:58:31.871790",
     "exception": false,
     "start_time": "2020-09-19T18:58:31.821767",
     "status": "completed"
    },
    "tags": []
   },
   "outputs": [
    {
     "data": {
      "text/html": [
       "<pre style=\"white-space:pre;overflow-x:auto;line-height:normal;font-family:Menlo,'DejaVu Sans Mono',consolas,'Courier New',monospace\"><span style=\"font-weight: bold\">Model: \"sequential_2\"</span>\n",
       "</pre>\n"
      ],
      "text/plain": [
       "\u001b[1mModel: \"sequential_2\"\u001b[0m\n"
      ]
     },
     "metadata": {},
     "output_type": "display_data"
    },
    {
     "data": {
      "text/html": [
       "<pre style=\"white-space:pre;overflow-x:auto;line-height:normal;font-family:Menlo,'DejaVu Sans Mono',consolas,'Courier New',monospace\">┏━━━━━━━━━━━━━━━━━━━━━━━━━━━━━━━━━┳━━━━━━━━━━━━━━━━━━━━━━━━┳━━━━━━━━━━━━━━━┓\n",
       "┃<span style=\"font-weight: bold\"> Layer (type)                    </span>┃<span style=\"font-weight: bold\"> Output Shape           </span>┃<span style=\"font-weight: bold\">       Param # </span>┃\n",
       "┡━━━━━━━━━━━━━━━━━━━━━━━━━━━━━━━━━╇━━━━━━━━━━━━━━━━━━━━━━━━╇━━━━━━━━━━━━━━━┩\n",
       "│ dense_3 (<span style=\"color: #0087ff; text-decoration-color: #0087ff\">Dense</span>)                 │ (<span style=\"color: #00d7ff; text-decoration-color: #00d7ff\">None</span>, <span style=\"color: #00af00; text-decoration-color: #00af00\">512</span>)            │       <span style=\"color: #00af00; text-decoration-color: #00af00\">401,920</span> │\n",
       "├─────────────────────────────────┼────────────────────────┼───────────────┤\n",
       "│ activation_3 (<span style=\"color: #0087ff; text-decoration-color: #0087ff\">Activation</span>)       │ (<span style=\"color: #00d7ff; text-decoration-color: #00d7ff\">None</span>, <span style=\"color: #00af00; text-decoration-color: #00af00\">512</span>)            │             <span style=\"color: #00af00; text-decoration-color: #00af00\">0</span> │\n",
       "├─────────────────────────────────┼────────────────────────┼───────────────┤\n",
       "│ dropout_3 (<span style=\"color: #0087ff; text-decoration-color: #0087ff\">Dropout</span>)             │ (<span style=\"color: #00d7ff; text-decoration-color: #00d7ff\">None</span>, <span style=\"color: #00af00; text-decoration-color: #00af00\">512</span>)            │             <span style=\"color: #00af00; text-decoration-color: #00af00\">0</span> │\n",
       "├─────────────────────────────────┼────────────────────────┼───────────────┤\n",
       "│ dense_4 (<span style=\"color: #0087ff; text-decoration-color: #0087ff\">Dense</span>)                 │ (<span style=\"color: #00d7ff; text-decoration-color: #00d7ff\">None</span>, <span style=\"color: #00af00; text-decoration-color: #00af00\">512</span>)            │       <span style=\"color: #00af00; text-decoration-color: #00af00\">262,656</span> │\n",
       "├─────────────────────────────────┼────────────────────────┼───────────────┤\n",
       "│ activation_4 (<span style=\"color: #0087ff; text-decoration-color: #0087ff\">Activation</span>)       │ (<span style=\"color: #00d7ff; text-decoration-color: #00d7ff\">None</span>, <span style=\"color: #00af00; text-decoration-color: #00af00\">512</span>)            │             <span style=\"color: #00af00; text-decoration-color: #00af00\">0</span> │\n",
       "├─────────────────────────────────┼────────────────────────┼───────────────┤\n",
       "│ dropout_4 (<span style=\"color: #0087ff; text-decoration-color: #0087ff\">Dropout</span>)             │ (<span style=\"color: #00d7ff; text-decoration-color: #00d7ff\">None</span>, <span style=\"color: #00af00; text-decoration-color: #00af00\">512</span>)            │             <span style=\"color: #00af00; text-decoration-color: #00af00\">0</span> │\n",
       "├─────────────────────────────────┼────────────────────────┼───────────────┤\n",
       "│ dense_5 (<span style=\"color: #0087ff; text-decoration-color: #0087ff\">Dense</span>)                 │ (<span style=\"color: #00d7ff; text-decoration-color: #00d7ff\">None</span>, <span style=\"color: #00af00; text-decoration-color: #00af00\">10</span>)             │         <span style=\"color: #00af00; text-decoration-color: #00af00\">5,130</span> │\n",
       "├─────────────────────────────────┼────────────────────────┼───────────────┤\n",
       "│ activation_5 (<span style=\"color: #0087ff; text-decoration-color: #0087ff\">Activation</span>)       │ (<span style=\"color: #00d7ff; text-decoration-color: #00d7ff\">None</span>, <span style=\"color: #00af00; text-decoration-color: #00af00\">10</span>)             │             <span style=\"color: #00af00; text-decoration-color: #00af00\">0</span> │\n",
       "└─────────────────────────────────┴────────────────────────┴───────────────┘\n",
       "</pre>\n"
      ],
      "text/plain": [
       "┏━━━━━━━━━━━━━━━━━━━━━━━━━━━━━━━━━┳━━━━━━━━━━━━━━━━━━━━━━━━┳━━━━━━━━━━━━━━━┓\n",
       "┃\u001b[1m \u001b[0m\u001b[1mLayer (type)                   \u001b[0m\u001b[1m \u001b[0m┃\u001b[1m \u001b[0m\u001b[1mOutput Shape          \u001b[0m\u001b[1m \u001b[0m┃\u001b[1m \u001b[0m\u001b[1m      Param #\u001b[0m\u001b[1m \u001b[0m┃\n",
       "┡━━━━━━━━━━━━━━━━━━━━━━━━━━━━━━━━━╇━━━━━━━━━━━━━━━━━━━━━━━━╇━━━━━━━━━━━━━━━┩\n",
       "│ dense_3 (\u001b[38;5;33mDense\u001b[0m)                 │ (\u001b[38;5;45mNone\u001b[0m, \u001b[38;5;34m512\u001b[0m)            │       \u001b[38;5;34m401,920\u001b[0m │\n",
       "├─────────────────────────────────┼────────────────────────┼───────────────┤\n",
       "│ activation_3 (\u001b[38;5;33mActivation\u001b[0m)       │ (\u001b[38;5;45mNone\u001b[0m, \u001b[38;5;34m512\u001b[0m)            │             \u001b[38;5;34m0\u001b[0m │\n",
       "├─────────────────────────────────┼────────────────────────┼───────────────┤\n",
       "│ dropout_3 (\u001b[38;5;33mDropout\u001b[0m)             │ (\u001b[38;5;45mNone\u001b[0m, \u001b[38;5;34m512\u001b[0m)            │             \u001b[38;5;34m0\u001b[0m │\n",
       "├─────────────────────────────────┼────────────────────────┼───────────────┤\n",
       "│ dense_4 (\u001b[38;5;33mDense\u001b[0m)                 │ (\u001b[38;5;45mNone\u001b[0m, \u001b[38;5;34m512\u001b[0m)            │       \u001b[38;5;34m262,656\u001b[0m │\n",
       "├─────────────────────────────────┼────────────────────────┼───────────────┤\n",
       "│ activation_4 (\u001b[38;5;33mActivation\u001b[0m)       │ (\u001b[38;5;45mNone\u001b[0m, \u001b[38;5;34m512\u001b[0m)            │             \u001b[38;5;34m0\u001b[0m │\n",
       "├─────────────────────────────────┼────────────────────────┼───────────────┤\n",
       "│ dropout_4 (\u001b[38;5;33mDropout\u001b[0m)             │ (\u001b[38;5;45mNone\u001b[0m, \u001b[38;5;34m512\u001b[0m)            │             \u001b[38;5;34m0\u001b[0m │\n",
       "├─────────────────────────────────┼────────────────────────┼───────────────┤\n",
       "│ dense_5 (\u001b[38;5;33mDense\u001b[0m)                 │ (\u001b[38;5;45mNone\u001b[0m, \u001b[38;5;34m10\u001b[0m)             │         \u001b[38;5;34m5,130\u001b[0m │\n",
       "├─────────────────────────────────┼────────────────────────┼───────────────┤\n",
       "│ activation_5 (\u001b[38;5;33mActivation\u001b[0m)       │ (\u001b[38;5;45mNone\u001b[0m, \u001b[38;5;34m10\u001b[0m)             │             \u001b[38;5;34m0\u001b[0m │\n",
       "└─────────────────────────────────┴────────────────────────┴───────────────┘\n"
      ]
     },
     "metadata": {},
     "output_type": "display_data"
    },
    {
     "data": {
      "text/html": [
       "<pre style=\"white-space:pre;overflow-x:auto;line-height:normal;font-family:Menlo,'DejaVu Sans Mono',consolas,'Courier New',monospace\"><span style=\"font-weight: bold\"> Total params: </span><span style=\"color: #00af00; text-decoration-color: #00af00\">669,706</span> (2.55 MB)\n",
       "</pre>\n"
      ],
      "text/plain": [
       "\u001b[1m Total params: \u001b[0m\u001b[38;5;34m669,706\u001b[0m (2.55 MB)\n"
      ]
     },
     "metadata": {},
     "output_type": "display_data"
    },
    {
     "data": {
      "text/html": [
       "<pre style=\"white-space:pre;overflow-x:auto;line-height:normal;font-family:Menlo,'DejaVu Sans Mono',consolas,'Courier New',monospace\"><span style=\"font-weight: bold\"> Trainable params: </span><span style=\"color: #00af00; text-decoration-color: #00af00\">669,706</span> (2.55 MB)\n",
       "</pre>\n"
      ],
      "text/plain": [
       "\u001b[1m Trainable params: \u001b[0m\u001b[38;5;34m669,706\u001b[0m (2.55 MB)\n"
      ]
     },
     "metadata": {},
     "output_type": "display_data"
    },
    {
     "data": {
      "text/html": [
       "<pre style=\"white-space:pre;overflow-x:auto;line-height:normal;font-family:Menlo,'DejaVu Sans Mono',consolas,'Courier New',monospace\"><span style=\"font-weight: bold\"> Non-trainable params: </span><span style=\"color: #00af00; text-decoration-color: #00af00\">0</span> (0.00 B)\n",
       "</pre>\n"
      ],
      "text/plain": [
       "\u001b[1m Non-trainable params: \u001b[0m\u001b[38;5;34m0\u001b[0m (0.00 B)\n"
      ]
     },
     "metadata": {},
     "output_type": "display_data"
    }
   ],
   "source": [
    "model.summary()"
   ]
  },
  {
   "cell_type": "markdown",
   "metadata": {
    "papermill": {
     "duration": 0.033993,
     "end_time": "2020-09-19T18:58:31.939974",
     "exception": false,
     "start_time": "2020-09-19T18:58:31.905981",
     "status": "completed"
    },
    "tags": []
   },
   "source": [
    "## Model Chart"
   ]
  },
  {
   "cell_type": "code",
   "execution_count": 67,
   "metadata": {
    "execution": {
     "iopub.execute_input": "2020-09-19T18:58:32.016403Z",
     "iopub.status.busy": "2020-09-19T18:58:32.014828Z",
     "iopub.status.idle": "2020-09-19T18:58:32.853766Z",
     "shell.execute_reply": "2020-09-19T18:58:32.852416Z"
    },
    "papermill": {
     "duration": 0.880834,
     "end_time": "2020-09-19T18:58:32.853930",
     "exception": false,
     "start_time": "2020-09-19T18:58:31.973096",
     "status": "completed"
    },
    "tags": []
   },
   "outputs": [],
   "source": [
    "# from keras.utils import plot_model\n",
    "# plot_model(model, to_file='model_chart.png', show_shapes=True, show_layer_names=True)\n",
    "# from IPython.display import Image\n",
    "# Image(\"model_chart.png\")\n",
    "\n"
   ]
  },
  {
   "cell_type": "markdown",
   "metadata": {},
   "source": [
    "\n",
    "![](https://www.kaggleusercontent.com/kf/39542455/eyJhbGciOiJkaXIiLCJlbmMiOiJBMTI4Q0JDLUhTMjU2In0..niblN5Xoa5Y0fyc0mkgKkA.OrRFpyMR--767E10vjvFt05kgoQjIxKerJ91CUC7S_qa72y5a8-fe8B7T2FeEN5YclVIG37zga7xayW9qqxFB8FrJgcImnxztv0oShS0O60Q5ExcJSo-97DdKPFEfjtgzeXnRHBRJoi-oENjcC-IW0rpbCDOJRZzNlt6EMV_gpxVlcQeqwhwsfPmU4P3eQhiKb3L17KqZySQ9KrtJbRatsKr72Ji7nZt2D8DQFC30rhW9Xuh2W6AwY3Ys7TevWQbP4QPyMJgSHknqXs9umPY3UcvhbLp191j6nyVDWjNZS18TN6huEKUqAEcCP5YPvgIC7U8yKYY9AEl5jAHT69VJhMD6ohfBZDQVvH5UY2Z3r5KjO43ay4UYXEnoGDG1iq-WVVu-ixMF4gROJweG_VwWdvwNeMc1lfCx5SvHJXhWfbgEJALsc_33k2JYzzoIJHf5eYbf4Z0Py4ONkxWvoFWyKDlvdUmVWYjWih6pZAiVWXu_dYz-6-XKH5kh47mSEHxL0BdD1U7-ERUGTOI7LedGxiVa2bIS30Ay4KLM1-czCtM390z03AiZDsP81nhfmhOhPAfzKq3-VzvZCJhlhhWaai2kaBCk2iCwPWvlhah9trlpNXsMTHc2jbuf_HRufXDq1p56EadoLBc5JH7GkNrKvVUhQtiDmkJRX6FU_nG9CQ.KbWroa7pB62MruOAMBmYlA/__results___files/__results___34_0.png)"
   ]
  },
  {
   "cell_type": "markdown",
   "metadata": {
    "papermill": {
     "duration": 0.046682,
     "end_time": "2020-09-19T18:58:32.955496",
     "exception": false,
     "start_time": "2020-09-19T18:58:32.908814",
     "status": "completed"
    },
    "tags": []
   },
   "source": [
    "## Compiling the model\n",
    "\n",
    "When compiling a model, Keras asks you to specify your loss function and your optimizer."
   ]
  },
  {
   "cell_type": "code",
   "execution_count": 68,
   "metadata": {
    "execution": {
     "iopub.execute_input": "2020-09-19T18:58:33.070331Z",
     "iopub.status.busy": "2020-09-19T18:58:33.065315Z",
     "iopub.status.idle": "2020-09-19T18:58:33.074259Z",
     "shell.execute_reply": "2020-09-19T18:58:33.073643Z"
    },
    "papermill": {
     "duration": 0.07453,
     "end_time": "2020-09-19T18:58:33.074534",
     "exception": false,
     "start_time": "2020-09-19T18:58:33.000004",
     "status": "completed"
    },
    "tags": []
   },
   "outputs": [],
   "source": [
    "model.compile(loss='categorical_crossentropy', optimizer='adam', metrics=['accuracy'])"
   ]
  },
  {
   "cell_type": "markdown",
   "metadata": {
    "papermill": {
     "duration": 0.034877,
     "end_time": "2020-09-19T18:58:33.143616",
     "exception": false,
     "start_time": "2020-09-19T18:58:33.108739",
     "status": "completed"
    },
    "tags": []
   },
   "source": [
    "The loss function we'll use here is called categorical cross-entropy and is a loss function well-suited to comparing two probability distributions. The cross-entropy is a measure of how different your predicted distribution is from the target distribution. <br><br>\n",
    "Optimizers are algorithms or methods used to change the attributes of the neural network such as weights and learning rate to reduce the losses. Optimizers are used to solve optimization problems by minimizing the loss function. In our case, we use the Adam Optimizer."
   ]
  },
  {
   "cell_type": "code",
   "execution_count": 69,
   "metadata": {
    "execution": {
     "iopub.execute_input": "2020-09-19T18:58:33.222655Z",
     "iopub.status.busy": "2020-09-19T18:58:33.221549Z",
     "iopub.status.idle": "2020-09-19T18:59:23.365930Z",
     "shell.execute_reply": "2020-09-19T18:59:23.364891Z"
    },
    "papermill": {
     "duration": 50.187661,
     "end_time": "2020-09-19T18:59:23.366072",
     "exception": false,
     "start_time": "2020-09-19T18:58:33.178411",
     "status": "completed"
    },
    "tags": []
   },
   "outputs": [
    {
     "name": "stdout",
     "output_type": "stream",
     "text": [
      "Epoch 1/10\n",
      "\u001b[1m469/469\u001b[0m \u001b[32m━━━━━━━━━━━━━━━━━━━━\u001b[0m\u001b[37m\u001b[0m \u001b[1m16s\u001b[0m 24ms/step - accuracy: 0.8662 - loss: 0.4438\n",
      "Epoch 2/10\n",
      "\u001b[1m469/469\u001b[0m \u001b[32m━━━━━━━━━━━━━━━━━━━━\u001b[0m\u001b[37m\u001b[0m \u001b[1m11s\u001b[0m 24ms/step - accuracy: 0.9691 - loss: 0.1034\n",
      "Epoch 3/10\n",
      "\u001b[1m469/469\u001b[0m \u001b[32m━━━━━━━━━━━━━━━━━━━━\u001b[0m\u001b[37m\u001b[0m \u001b[1m11s\u001b[0m 23ms/step - accuracy: 0.9786 - loss: 0.0668\n",
      "Epoch 4/10\n",
      "\u001b[1m469/469\u001b[0m \u001b[32m━━━━━━━━━━━━━━━━━━━━\u001b[0m\u001b[37m\u001b[0m \u001b[1m22s\u001b[0m 25ms/step - accuracy: 0.9822 - loss: 0.0554\n",
      "Epoch 5/10\n",
      "\u001b[1m469/469\u001b[0m \u001b[32m━━━━━━━━━━━━━━━━━━━━\u001b[0m\u001b[37m\u001b[0m \u001b[1m20s\u001b[0m 25ms/step - accuracy: 0.9854 - loss: 0.0456\n",
      "Epoch 6/10\n",
      "\u001b[1m469/469\u001b[0m \u001b[32m━━━━━━━━━━━━━━━━━━━━\u001b[0m\u001b[37m\u001b[0m \u001b[1m19s\u001b[0m 22ms/step - accuracy: 0.9872 - loss: 0.0376\n",
      "Epoch 7/10\n",
      "\u001b[1m469/469\u001b[0m \u001b[32m━━━━━━━━━━━━━━━━━━━━\u001b[0m\u001b[37m\u001b[0m \u001b[1m11s\u001b[0m 22ms/step - accuracy: 0.9901 - loss: 0.0320\n",
      "Epoch 8/10\n",
      "\u001b[1m469/469\u001b[0m \u001b[32m━━━━━━━━━━━━━━━━━━━━\u001b[0m\u001b[37m\u001b[0m \u001b[1m11s\u001b[0m 22ms/step - accuracy: 0.9899 - loss: 0.0307\n",
      "Epoch 9/10\n",
      "\u001b[1m469/469\u001b[0m \u001b[32m━━━━━━━━━━━━━━━━━━━━\u001b[0m\u001b[37m\u001b[0m \u001b[1m11s\u001b[0m 22ms/step - accuracy: 0.9919 - loss: 0.0230\n",
      "Epoch 10/10\n",
      "\u001b[1m469/469\u001b[0m \u001b[32m━━━━━━━━━━━━━━━━━━━━\u001b[0m\u001b[37m\u001b[0m \u001b[1m21s\u001b[0m 23ms/step - accuracy: 0.9930 - loss: 0.0208\n"
     ]
    }
   ],
   "source": [
    "history = model.fit(X_train, Y_train,\n",
    "          batch_size=128, epochs=10,\n",
    "          verbose=1)"
   ]
  },
  {
   "cell_type": "markdown",
   "metadata": {
    "papermill": {
     "duration": 0.343751,
     "end_time": "2020-09-19T18:59:24.060347",
     "exception": false,
     "start_time": "2020-09-19T18:59:23.716596",
     "status": "completed"
    },
    "tags": []
   },
   "source": [
    "The batch size determines how much data per step is used to compute the loss function, gradients, and backpropagation. Note that the accuracy increases after every epoch. We need to have a balanced number of epochs as higher epochs come at the risk of overfitting the model to the training set and may result in lower accuracy in the test case."
   ]
  },
  {
   "cell_type": "markdown",
   "metadata": {
    "papermill": {
     "duration": 0.346556,
     "end_time": "2020-09-19T18:59:24.746901",
     "exception": false,
     "start_time": "2020-09-19T18:59:24.400345",
     "status": "completed"
    },
    "tags": []
   },
   "source": [
    "## Evaluate the model\n",
    "\n",
    "We will now evaluate our model against the Testing dataset"
   ]
  },
  {
   "cell_type": "code",
   "execution_count": 70,
   "metadata": {
    "execution": {
     "iopub.execute_input": "2020-09-19T18:59:25.445250Z",
     "iopub.status.busy": "2020-09-19T18:59:25.443750Z",
     "iopub.status.idle": "2020-09-19T18:59:26.425724Z",
     "shell.execute_reply": "2020-09-19T18:59:26.424490Z"
    },
    "papermill": {
     "duration": 1.334664,
     "end_time": "2020-09-19T18:59:26.425856",
     "exception": false,
     "start_time": "2020-09-19T18:59:25.091192",
     "status": "completed"
    },
    "tags": []
   },
   "outputs": [
    {
     "name": "stdout",
     "output_type": "stream",
     "text": [
      "\u001b[1m313/313\u001b[0m \u001b[32m━━━━━━━━━━━━━━━━━━━━\u001b[0m\u001b[37m\u001b[0m \u001b[1m3s\u001b[0m 7ms/step - accuracy: 0.9775 - loss: 0.0760\n",
      "Test accuracy: 0.9815999865531921\n"
     ]
    }
   ],
   "source": [
    "score = model.evaluate(X_test, Y_test)\n",
    "print('Test accuracy:', score[1])"
   ]
  },
  {
   "cell_type": "markdown",
   "metadata": {
    "papermill": {
     "duration": 0.351978,
     "end_time": "2020-09-19T18:59:27.131081",
     "exception": false,
     "start_time": "2020-09-19T18:59:26.779103",
     "status": "completed"
    },
    "tags": []
   },
   "source": [
    "Plot the accuracy and loss metrics of the model."
   ]
  },
  {
   "cell_type": "code",
   "execution_count": 71,
   "metadata": {
    "execution": {
     "iopub.execute_input": "2020-09-19T18:59:27.853114Z",
     "iopub.status.busy": "2020-09-19T18:59:27.846157Z",
     "iopub.status.idle": "2020-09-19T18:59:28.196851Z",
     "shell.execute_reply": "2020-09-19T18:59:28.197392Z"
    },
    "papermill": {
     "duration": 0.713977,
     "end_time": "2020-09-19T18:59:28.197557",
     "exception": false,
     "start_time": "2020-09-19T18:59:27.483580",
     "status": "completed"
    },
    "tags": []
   },
   "outputs": [
    {
     "data": {
      "image/png": "[encoded data removed]",
      "text/plain": [
       "<Figure size 640x480 with 2 Axes>"
      ]
     },
     "metadata": {},
     "output_type": "display_data"
    }
   ],
   "source": [
    "fig = plt.figure()\n",
    "plt.subplot(2,1,1)\n",
    "plt.plot(history.history['accuracy'])\n",
    "plt.title('model accuracy')\n",
    "plt.ylabel('accuracy')\n",
    "plt.xlabel('epoch')\n",
    "plt.legend(['train', 'test'], loc='lower right')\n",
    "\n",
    "plt.subplot(2,1,2)\n",
    "plt.plot(history.history['loss'])\n",
    "plt.title('model loss')\n",
    "plt.ylabel('loss')\n",
    "plt.xlabel('epoch')\n",
    "plt.legend(['train', 'test'], loc='upper right')\n",
    "\n",
    "plt.tight_layout()"
   ]
  },
  {
   "cell_type": "code",
   "execution_count": 73,
   "metadata": {},
   "outputs": [
    {
     "name": "stderr",
     "output_type": "stream",
     "text": [
      "WARNING:absl:You are saving your model as an HDF5 file via `model.save()` or `keras.saving.save_model(model)`. This file format is considered legacy. We recommend using instead the native Keras format, e.g. `model.save('my_model.keras')` or `keras.saving.save_model(model, 'my_model.keras')`. \n"
     ]
    }
   ],
   "source": [
    "# Save\n",
    "model.save(\"mnist_ann_model.h5\")"
   ]
  },
  {
   "cell_type": "markdown",
   "metadata": {},
   "source": []
  },
  {
   "cell_type": "code",
   "execution_count": null,
   "metadata": {},
   "outputs": [],
   "source": [
    "pip install streamlit"
   ]
  },
  {
   "cell_type": "code",
   "execution_count": null,
   "metadata": {},
   "outputs": [],
   "source": [
    "pip install opencv-python"
   ]
  },
  {
   "cell_type": "code",
   "execution_count": null,
   "metadata": {},
   "outputs": [],
   "source": [
    "pip install streamlit-drawable-canvas\n"
   ]
  },
  {
   "cell_type": "code",
   "execution_count": null,
   "metadata": {},
   "outputs": [
    {
     "name": "stderr",
     "output_type": "stream",
     "text": [
      "WARNING:absl:Compiled the loaded model, but the compiled metrics have yet to be built. `model.compile_metrics` will be empty until you train or evaluate the model.\n",
      "2025-04-05 17:02:25.223 Thread 'MainThread': missing ScriptRunContext! This warning can be ignored when running in bare mode.\n",
      "2025-04-05 17:02:25.224 Thread 'MainThread': missing ScriptRunContext! This warning can be ignored when running in bare mode.\n",
      "2025-04-05 17:02:25.226 Thread 'MainThread': missing ScriptRunContext! This warning can be ignored when running in bare mode.\n",
      "2025-04-05 17:02:25.227 Thread 'MainThread': missing ScriptRunContext! This warning can be ignored when running in bare mode.\n",
      "2025-04-05 17:02:25.235 Thread 'MainThread': missing ScriptRunContext! This warning can be ignored when running in bare mode.\n",
      "2025-04-05 17:02:25.237 Thread 'MainThread': missing ScriptRunContext! This warning can be ignored when running in bare mode.\n",
      "2025-04-05 17:02:25.240 Thread 'MainThread': missing ScriptRunContext! This warning can be ignored when running in bare mode.\n",
      "2025-04-05 17:02:25.241 Thread 'MainThread': missing ScriptRunContext! This warning can be ignored when running in bare mode.\n"
     ]
    }
   ],
   "source": [
    "import streamlit as st\n",
    "import numpy as np\n",
    "import cv2\n",
    "from tensorflow.keras.models import load_model\n",
    "from streamlit_drawable_canvas import st_canvas\n",
    "\n",
    "def app():\n",
    "    # Load model\n",
    "    model = load_model(\"mnist_ann_model.h5\")\n",
    "\n",
    "    st.title(\"MNIST Digit Recognizer\")\n",
    "    st.markdown(\"Draw a digit below 👇\")\n",
    "\n",
    "    # Canvas for drawing\n",
    "    canvas_result = st_canvas(\n",
    "        fill_color=\"black\",\n",
    "        stroke_width=10,\n",
    "        stroke_color=\"white\",\n",
    "        background_color=\"black\",\n",
    "        height=280,\n",
    "        width=280,\n",
    "        drawing_mode=\"freedraw\",\n",
    "        key=\"canvas\",\n",
    "    )\n",
    "\n",
    "    if canvas_result.image_data is not None:\n",
    "        img = canvas_result.image_data\n",
    "\n",
    "        # Preprocess the image\n",
    "        img = cv2.cvtColor(img.astype('uint8'), cv2.COLOR_RGBA2GRAY)\n",
    "        img = cv2.resize(img, (28, 28))\n",
    "        img = img / 255.0\n",
    "        img = img.reshape(1, 28, 28, 1)\n",
    "\n",
    "        # Predict\n",
    "        pred = model.predict(img)\n",
    "        pred_class = np.argmax(pred)\n",
    "\n",
    "        st.subheader(f\"Predicted Digit: {pred_class}\")\n",
    "app()"
   ]
  },
  {
   "cell_type": "code",
   "execution_count": 84,
   "metadata": {},
   "outputs": [
    {
     "name": "stderr",
     "output_type": "stream",
     "text": [
      "Usage: streamlit run [OPTIONS] TARGET [ARGS]...\n",
      "Try 'streamlit run --help' for help.\n",
      "\n",
      "Error: Invalid value: File does not exist: app.py\n"
     ]
    }
   ],
   "source": [
    "!streamlit run app.py\n"
   ]
  },
  {
   "cell_type": "markdown",
   "metadata": {},
   "source": [
    "### OPTIONAL NOT NEED TO DO BELOW PART"
   ]
  },
  {
   "cell_type": "code",
   "execution_count": null,
   "metadata": {},
   "outputs": [],
   "source": []
  },
  {
   "cell_type": "code",
   "execution_count": 72,
   "metadata": {
    "execution": {
     "iopub.execute_input": "2020-09-19T18:59:28.966443Z",
     "iopub.status.busy": "2020-09-19T18:59:28.965734Z",
     "iopub.status.idle": "2020-09-19T18:59:31.162596Z",
     "shell.execute_reply": "2020-09-19T18:59:31.161976Z"
    },
    "papermill": {
     "duration": 2.556592,
     "end_time": "2020-09-19T18:59:31.162736",
     "exception": false,
     "start_time": "2020-09-19T18:59:28.606144",
     "status": "completed"
    },
    "tags": []
   },
   "outputs": [
    {
     "ename": "NameError",
     "evalue": "name 'test_data' is not defined",
     "output_type": "error",
     "traceback": [
      "\u001b[31m---------------------------------------------------------------------------\u001b[39m",
      "\u001b[31mNameError\u001b[39m                                 Traceback (most recent call last)",
      "\u001b[36mCell\u001b[39m\u001b[36m \u001b[39m\u001b[32mIn[72]\u001b[39m\u001b[32m, line 1\u001b[39m\n\u001b[32m----> \u001b[39m\u001b[32m1\u001b[39m results = model.predict(\u001b[43mtest_data\u001b[49m)\n",
      "\u001b[31mNameError\u001b[39m: name 'test_data' is not defined"
     ]
    }
   ],
   "source": [
    "results = model.predict(test_data)"
   ]
  },
  {
   "cell_type": "code",
   "execution_count": null,
   "metadata": {
    "execution": {
     "iopub.execute_input": "2020-09-19T18:59:31.868091Z",
     "iopub.status.busy": "2020-09-19T18:59:31.867043Z",
     "iopub.status.idle": "2020-09-19T18:59:32.217732Z",
     "shell.execute_reply": "2020-09-19T18:59:32.217082Z"
    },
    "papermill": {
     "duration": 0.707943,
     "end_time": "2020-09-19T18:59:32.217852",
     "exception": false,
     "start_time": "2020-09-19T18:59:31.509909",
     "status": "completed"
    },
    "tags": []
   },
   "outputs": [],
   "source": [
    "results = np.argmax(results,axis = 1)\n",
    "results = pd.Series(results,name=\"Label\")\n",
    "submission = pd.concat([pd.Series(range(1,28001),name = \"ImageId\"),results],axis = 1)\n",
    "\n",
    "submission.to_csv(\"submission.csv\",index=False)"
   ]
  },
  {
   "cell_type": "code",
   "execution_count": null,
   "metadata": {
    "execution": {
     "iopub.execute_input": "2020-09-19T18:59:32.931565Z",
     "iopub.status.busy": "2020-09-19T18:59:32.930838Z",
     "iopub.status.idle": "2020-09-19T18:59:32.940093Z",
     "shell.execute_reply": "2020-09-19T18:59:32.940638Z"
    },
    "papermill": {
     "duration": 0.37235,
     "end_time": "2020-09-19T18:59:32.940785",
     "exception": false,
     "start_time": "2020-09-19T18:59:32.568435",
     "status": "completed"
    },
    "tags": []
   },
   "outputs": [
    {
     "data": {
      "text/html": [
       "<div>\n",
       "<style scoped>\n",
       "    .dataframe tbody tr th:only-of-type {\n",
       "        vertical-align: middle;\n",
       "    }\n",
       "\n",
       "    .dataframe tbody tr th {\n",
       "        vertical-align: top;\n",
       "    }\n",
       "\n",
       "    .dataframe thead th {\n",
       "        text-align: right;\n",
       "    }\n",
       "</style>\n",
       "<table border=\"1\" class=\"dataframe\">\n",
       "  <thead>\n",
       "    <tr style=\"text-align: right;\">\n",
       "      <th></th>\n",
       "      <th>ImageId</th>\n",
       "      <th>Label</th>\n",
       "    </tr>\n",
       "  </thead>\n",
       "  <tbody>\n",
       "    <tr>\n",
       "      <th>0</th>\n",
       "      <td>1</td>\n",
       "      <td>2</td>\n",
       "    </tr>\n",
       "    <tr>\n",
       "      <th>1</th>\n",
       "      <td>2</td>\n",
       "      <td>0</td>\n",
       "    </tr>\n",
       "    <tr>\n",
       "      <th>2</th>\n",
       "      <td>3</td>\n",
       "      <td>9</td>\n",
       "    </tr>\n",
       "    <tr>\n",
       "      <th>3</th>\n",
       "      <td>4</td>\n",
       "      <td>0</td>\n",
       "    </tr>\n",
       "    <tr>\n",
       "      <th>4</th>\n",
       "      <td>5</td>\n",
       "      <td>3</td>\n",
       "    </tr>\n",
       "    <tr>\n",
       "      <th>...</th>\n",
       "      <td>...</td>\n",
       "      <td>...</td>\n",
       "    </tr>\n",
       "    <tr>\n",
       "      <th>27995</th>\n",
       "      <td>27996</td>\n",
       "      <td>9</td>\n",
       "    </tr>\n",
       "    <tr>\n",
       "      <th>27996</th>\n",
       "      <td>27997</td>\n",
       "      <td>7</td>\n",
       "    </tr>\n",
       "    <tr>\n",
       "      <th>27997</th>\n",
       "      <td>27998</td>\n",
       "      <td>3</td>\n",
       "    </tr>\n",
       "    <tr>\n",
       "      <th>27998</th>\n",
       "      <td>27999</td>\n",
       "      <td>9</td>\n",
       "    </tr>\n",
       "    <tr>\n",
       "      <th>27999</th>\n",
       "      <td>28000</td>\n",
       "      <td>2</td>\n",
       "    </tr>\n",
       "  </tbody>\n",
       "</table>\n",
       "<p>28000 rows × 2 columns</p>\n",
       "</div>"
      ],
      "text/plain": [
       "       ImageId  Label\n",
       "0            1      2\n",
       "1            2      0\n",
       "2            3      9\n",
       "3            4      0\n",
       "4            5      3\n",
       "...        ...    ...\n",
       "27995    27996      9\n",
       "27996    27997      7\n",
       "27997    27998      3\n",
       "27998    27999      9\n",
       "27999    28000      2\n",
       "\n",
       "[28000 rows x 2 columns]"
      ]
     },
     "execution_count": 21,
     "metadata": {},
     "output_type": "execute_result"
    }
   ],
   "source": [
    "submission"
   ]
  },
  {
   "cell_type": "markdown",
   "metadata": {
    "papermill": {
     "duration": 0.369332,
     "end_time": "2020-09-19T18:59:33.663399",
     "exception": false,
     "start_time": "2020-09-19T18:59:33.294067",
     "status": "completed"
    },
    "tags": []
   },
   "source": [
    "Now let us introspect a few correctly and wrongly classified images to get a better understanding of where the model fails and hopefully take corrective measures to increse its accuracy."
   ]
  },
  {
   "cell_type": "code",
   "execution_count": null,
   "metadata": {
    "execution": {
     "iopub.execute_input": "2020-09-19T18:59:34.370589Z",
     "iopub.status.busy": "2020-09-19T18:59:34.369841Z",
     "iopub.status.idle": "2020-09-19T18:59:35.223093Z",
     "shell.execute_reply": "2020-09-19T18:59:35.223654Z"
    },
    "papermill": {
     "duration": 1.205647,
     "end_time": "2020-09-19T18:59:35.223811",
     "exception": false,
     "start_time": "2020-09-19T18:59:34.018164",
     "status": "completed"
    },
    "tags": []
   },
   "outputs": [],
   "source": [
    "predicted_classes = model.predict_classes(X_test)\n",
    "\n",
    "correct_indices = np.nonzero(predicted_classes == y_test)[0]\n",
    "\n",
    "incorrect_indices = np.nonzero(predicted_classes != y_test)[0]"
   ]
  },
  {
   "cell_type": "code",
   "execution_count": null,
   "metadata": {
    "execution": {
     "iopub.execute_input": "2020-09-19T18:59:35.936496Z",
     "iopub.status.busy": "2020-09-19T18:59:35.935440Z",
     "iopub.status.idle": "2020-09-19T18:59:38.394613Z",
     "shell.execute_reply": "2020-09-19T18:59:38.394034Z"
    },
    "papermill": {
     "duration": 2.814642,
     "end_time": "2020-09-19T18:59:38.394735",
     "exception": false,
     "start_time": "2020-09-19T18:59:35.580093",
     "status": "completed"
    },
    "tags": []
   },
   "outputs": [
    {
     "data": {
      "image/png": "[encoded data removed]",
      "text/plain": [
       "<Figure size 432x288 with 9 Axes>"
      ]
     },
     "metadata": {
      "needs_background": "light"
     },
     "output_type": "display_data"
    },
    {
     "data": {
      "image/png": "[encoded data removed]",
      "text/plain": [
       "<Figure size 432x288 with 9 Axes>"
      ]
     },
     "metadata": {
      "needs_background": "light"
     },
     "output_type": "display_data"
    }
   ],
   "source": [
    "plt.figure()\n",
    "for i, correct in enumerate(correct_indices[:9]):\n",
    "    plt.subplot(3,3,i+1)\n",
    "    plt.imshow(X_test[correct].reshape(28,28), cmap='gray', interpolation='none')\n",
    "    plt.title(\"Predicted {}, Class {}\".format(predicted_classes[correct], y_test[correct]))\n",
    "    \n",
    "plt.tight_layout()\n",
    "    \n",
    "plt.figure()\n",
    "for i, incorrect in enumerate(incorrect_indices[:9]):\n",
    "    plt.subplot(3,3,i+1)\n",
    "    plt.imshow(X_test[incorrect].reshape(28,28), cmap='gray', interpolation='none')\n",
    "    plt.title(\"Predicted {}, Class {}\".format(predicted_classes[incorrect], y_test[incorrect]))\n",
    "    \n",
    "plt.tight_layout()"
   ]
  },
  {
   "cell_type": "markdown",
   "metadata": {
    "papermill": {
     "duration": 0.392226,
     "end_time": "2020-09-19T18:59:39.140818",
     "exception": false,
     "start_time": "2020-09-19T18:59:38.748592",
     "status": "completed"
    },
    "tags": []
   },
   "source": [
    "Congratulations on completing your first Deep Learning model. I hope you understood the basic concepts behind data pre-processing, model framing, training, and testing.\n",
    "\n",
    "There are many ways in which we can improve the performance of the model by tuning the hyperparameters, data validation, augmentation, trying different optimizers and avoiding biased training, and many more! \n",
    "\n",
    "I have written a blog to give a better explanation of the approach I have used, here is the link - https://medium.com/analytics-vidhya/get-started-with-your-first-deep-learning-project-7d989cb13ae5\n",
    "\n",
    "Let me know if you have any suggestions/doubts. Happy Kaggling :)"
   ]
  }
 ],
 "metadata": {
  "kernelspec": {
   "display_name": "aienv",
   "language": "python",
   "name": "python3"
  },
  "language_info": {
   "codemirror_mode": {
    "name": "ipython",
    "version": 3
   },
   "file_extension": ".py",
   "mimetype": "text/x-python",
   "name": "python",
   "nbconvert_exporter": "python",
   "pygments_lexer": "ipython3",
   "version": "3.12.9"
  },
  "papermill": {
   "duration": 88.285869,
   "end_time": "2020-09-19T18:59:40.568362",
   "environment_variables": {},
   "exception": null,
   "input_path": "__notebook__.ipynb",
   "output_path": "__notebook__.ipynb",
   "parameters": {},
   "start_time": "2020-09-19T18:58:12.282493",
   "version": "2.1.0"
  }
 },
 "nbformat": 4,
 "nbformat_minor": 4
}
